{
 "cells": [
  {
   "cell_type": "code",
   "execution_count": 3,
   "id": "18dae0d3",
   "metadata": {},
   "outputs": [],
   "source": [
    "import pandas as pd\n",
    "import numpy as np\n",
    "from datetime import datetime\n"
   ]
  },
  {
   "cell_type": "code",
   "execution_count": null,
   "id": "1ea4ed9d",
   "metadata": {},
   "outputs": [
    {
     "name": "stdout",
     "output_type": "stream",
     "text": [
      "Dataset loaded successfully\n",
      "Shape: (3005, 16)\n",
      "Columns: Index(['Learner SignUp DateTime', 'Opportunity Id', 'Opportunity Name',\n",
      "       'Opportunity Category', 'Opportunity End Date', 'First Name',\n",
      "       'Date of Birth', 'Gender', 'Country', 'Institution Name',\n",
      "       'Current/Intended Major', 'Entry created at', 'Status Description',\n",
      "       'Status Code', 'Apply Date', 'Opportunity Start Date'],\n",
      "      dtype='object')\n"
     ]
    }
   ],
   "source": [
    "df = pd.read_excel(\"DataSet.xlsx\")  # Load the dataset\n",
    "print(\"Dataset loaded successfully\")\n",
    "print(\"Shape:\", df.shape)\n",
    "print(\"Columns:\", df.columns)"
   ]
  },
  {
   "cell_type": "markdown",
   "id": "9b4bc57c",
   "metadata": {},
   "source": [
    "to check that data has missing values"
   ]
  },
  {
   "cell_type": "code",
   "execution_count": 4,
   "id": "a4fa7c58",
   "metadata": {},
   "outputs": [
    {
     "data": {
      "text/plain": [
       "Learner SignUp DateTime    0\n",
       "Opportunity Id             0\n",
       "Opportunity Name           0\n",
       "Opportunity Category       0\n",
       "Opportunity End Date       0\n",
       "First Name                 0\n",
       "Date of Birth              0\n",
       "Gender                     0\n",
       "Country                    0\n",
       "Institution Name           0\n",
       "Current/Intended Major     0\n",
       "Entry created at           0\n",
       "Status Description         0\n",
       "Status Code                0\n",
       "Apply Date                 0\n",
       "Opportunity Start Date     0\n",
       "dtype: int64"
      ]
     },
     "execution_count": 4,
     "metadata": {},
     "output_type": "execute_result"
    }
   ],
   "source": [
    "pd.isnull(df).sum()"
   ]
  },
  {
   "cell_type": "markdown",
   "id": "dcbd27aa",
   "metadata": {},
   "source": [
    " # Feature 1: Age (if Date of Birth exists)"
   ]
  },
  {
   "cell_type": "code",
   "execution_count": 5,
   "id": "af3157fd",
   "metadata": {},
   "outputs": [],
   "source": [
    "df['Date of Birth'] = pd.to_datetime(df['Date of Birth'], errors='coerce')\n",
    "# Calculate Age (in years)\n",
    "df['Age'] = (pd.Timestamp.now() - df['Date of Birth']).dt.days // 365\n"
   ]
  },
  {
   "cell_type": "markdown",
   "id": "7aca4be3",
   "metadata": {},
   "source": [
    " --- 2. Feature: Application Duration ---\n",
    " "
   ]
  },
  {
   "cell_type": "code",
   "execution_count": 15,
   "id": "eaec12f1",
   "metadata": {},
   "outputs": [],
   "source": [
    "\n",
    "# Convert Apply Date and Opportunity Start Date to datetime\n",
    "\n",
    "df['Apply Date'] = pd.to_datetime(df['Apply Date'], errors='coerce')\n",
    "df['Opportunity Start Date'] = pd.to_datetime(df['Opportunity Start Date'], errors='coerce')\n",
    "# Calculate duration between applying and opportunity start\n",
    "df['Application Duration (days)'] = abs((df['Opportunity Start Date'] - df['Apply Date']).dt.days)\n"
   ]
  },
  {
   "cell_type": "markdown",
   "id": "5d909c42",
   "metadata": {},
   "source": [
    "# --- 3. Feature: Opportunity Duration ---"
   ]
  },
  {
   "cell_type": "code",
   "execution_count": 16,
   "id": "aea63733",
   "metadata": {},
   "outputs": [],
   "source": [
    "\n",
    "# Convert Opportunity End Date to datetime\n",
    "df['Opportunity End Date'] = pd.to_datetime(df['Opportunity End Date'], errors='coerce')\n",
    "# Calculate opportunity duration\n",
    "df['Opportunity Duration (days)'] = (df['Opportunity End Date'] - df['Opportunity Start Date']).dt.days"
   ]
  },
  {
   "cell_type": "markdown",
   "id": "aee36a0e",
   "metadata": {},
   "source": [
    "  # Save updated dataset as Excel & CSV"
   ]
  },
  {
   "cell_type": "code",
   "execution_count": 17,
   "id": "66ff9600",
   "metadata": {},
   "outputs": [],
   "source": [
    "\n",
    "df.to_excel(\"feature_engineered_dataset.xlsx\", index=False)\n",
    "df.to_csv(\"feature_engineered_dataset.csv\", index=False)"
   ]
  },
  {
   "cell_type": "code",
   "execution_count": 18,
   "id": "32b54f4d",
   "metadata": {},
   "outputs": [
    {
     "name": "stdout",
     "output_type": "stream",
     "text": [
      "  Learner SignUp DateTime                  Opportunity Id  \\\n",
      "0     2023-06-14 12:30:00  00000000-0gn2-a0ay-7xk8-c5fzpp   \n",
      "1     2023-05-01 05:29:00  00000000-0gn2-a0ay-7xk8-c5fzpp   \n",
      "2     2023-08-29 05:20:00  00000000-0gn2-a0ay-7xk8-c5fzpp   \n",
      "3     2023-01-06 15:26:00  00000000-0gn2-a0ay-7xk8-c5fzpp   \n",
      "4     2023-05-31 07:11:00  00000000-0gn2-a0ay-7xk8-c5fzpp   \n",
      "\n",
      "                                    Opportunity Name Opportunity Category  \\\n",
      "0  career essentials: getting started with your p...               course   \n",
      "1  career essentials: getting started with your p...               course   \n",
      "2  career essentials: getting started with your p...               course   \n",
      "3  career essentials: getting started with your p...               course   \n",
      "4  career essentials: getting started with your p...               course   \n",
      "\n",
      "  Opportunity End Date        First Name Date of Birth  Gender        Country  \\\n",
      "0  2024-06-29 18:52:00             faria    2001-01-12  female       pakistan   \n",
      "1  2024-06-29 18:52:00          poojitha    2000-08-16  female          india   \n",
      "2  2024-06-29 18:52:00  amrutha varshini    1999-11-01  female  united states   \n",
      "3  2024-06-29 18:52:00    vinay varshith    2000-04-19    male  united states   \n",
      "4  2024-06-29 18:52:00           fardeen    2001-09-09    male          india   \n",
      "\n",
      "                   Institution Name            Current/Intended Major  \\\n",
      "0                             nwihs                         radiology   \n",
      "1                       saint louis               information systems   \n",
      "2            saint louis university               information systems   \n",
      "3            saint louis university                  computer science   \n",
      "4  illinois institute of technology  computer science and engineering   \n",
      "\n",
      "     Entry created at Status Description  Status Code          Apply Date  \\\n",
      "0 2024-03-11 12:01:00            started         1080 2023-06-14 12:36:00   \n",
      "1 2024-03-11 12:01:00            started         1080 2023-05-01 06:08:00   \n",
      "2 2024-03-11 12:01:00     team allocated         1070 2023-10-09 22:02:00   \n",
      "3 2024-03-11 12:01:00            started         1080 2023-01-06 15:40:00   \n",
      "4 2024-03-11 12:01:00           withdraw         1110 2023-06-14 05:29:00   \n",
      "\n",
      "  Opportunity Start Date  Age  Opportunity Duration (days)  \\\n",
      "0    2022-11-03 18:30:00   24                          604   \n",
      "1    2022-11-03 18:30:00   25                          604   \n",
      "2    2022-11-03 18:30:00   25                          604   \n",
      "3    2022-11-03 18:30:00   25                          604   \n",
      "4    2022-11-03 18:30:00   23                          604   \n",
      "\n",
      "   Application Duration (days)  \n",
      "0                          223  \n",
      "1                          179  \n",
      "2                          341  \n",
      "3                           64  \n",
      "4                          223  \n"
     ]
    }
   ],
   "source": [
    "print(df.head())"
   ]
  }
 ],
 "metadata": {
  "kernelspec": {
   "display_name": "Python 3",
   "language": "python",
   "name": "python3"
  },
  "language_info": {
   "codemirror_mode": {
    "name": "ipython",
    "version": 3
   },
   "file_extension": ".py",
   "mimetype": "text/x-python",
   "name": "python",
   "nbconvert_exporter": "python",
   "pygments_lexer": "ipython3",
   "version": "3.13.3"
  }
 },
 "nbformat": 4,
 "nbformat_minor": 5
}
